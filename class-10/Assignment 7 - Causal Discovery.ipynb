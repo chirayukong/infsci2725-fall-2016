{
 "cells": [
  {
   "cell_type": "markdown",
   "metadata": {},
   "source": [
    "Your task is to verify the findinings in [Druzdzel & Glymour 1994]\n",
    "[Marek J. Druzdzel and Clark Glymour. Causal inferences from databases:\n",
    "Why universities lose students. In Clark Glymour and Gregory F. Cooper\n",
    "(eds), Computation, Causation, and Discovery, Chapter 19, pages 521-539,\n",
    "AAAI Press, Menlo Park, CA, 1999, an older version is available at:\n",
    "http://www.pitt.edu/~druzdzel/ftp/kdd94.pdf.]\n",
    "concerning student retention in US colleges.  The original study\n",
    "was performed on 1992 US News and World Report data.  The data\n",
    "that you will be studying is for the year 1993."
   ]
  },
  {
   "cell_type": "markdown",
   "metadata": {},
   "source": [
    "There are some small differences in variables under study between the\n",
    "1992 and 1993 data sets.  Because freshmen retention and senior\n",
    "graduation rates differred so little (most students who drop out do\n",
    "so in their freshmen year), freshmen retention has been eliminated.\n",
    "What used to be \"apgra\" is in the 1993 data set called \"apret\" (this\n",
    "is the percentage of student retention over the four years).\n",
    "(We rerun the 1992 data set and verified that the conclusion\n",
    "regarding the impact of the quality of incoming students on the\n",
    "retention rate is the same.)  Otherwise all variables are the\n",
    "same (but the measurements are for the year 1993)."
   ]
  },
  {
   "cell_type": "markdown",
   "metadata": {},
   "source": [
    "Do the 1993 data support Druzdzel & Glymour's conclusions?  If not,\n",
    "why not.  Can you find anything else going on in the data (i.e.,\n",
    "is there any structure in the data?)?  What are the causal graphs\n",
    "suggested by Tetrad?  What causes student retention?  Please, feel\n",
    "free to help Tetrad using your common sense knowledge of interactions\n",
    "between the variables included in the data set (not necessarily the\n",
    "knowledge inputed by Druzdzel & Glymour).  For example, you might\n",
    "know something about the time precedence.  Perhaps there are pairs\n",
    "of variables for which we are reasonably sure that there is/there\n",
    "is not an arc between them?  Check the sensitivity of your result\n",
    "to the significance level.  Druzdzel & Glymour made the assumption\n",
    "that the data are normally distributed and linearly dependent (this\n",
    "is an implicit assumption used in the PC algorithm in Tetrad).\n",
    "Please, feel free to check whether the assumption is indeed valid\n",
    "in the data using the graphing capabilities in Tetrad."
   ]
  },
  {
   "cell_type": "markdown",
   "metadata": {},
   "source": [
    "You don't need to make this a lot of work, but please, run the PC\n",
    "algorithm at least a few times and look critically at the results.\n",
    "Describe your observations and conclusions."
   ]
  },
  {
   "cell_type": "markdown",
   "metadata": {},
   "source": [
    "**(Bonus)** Repeat the same task with the training dataset from the Kaggle's Allstate Claims Severity competition. Try it with the FGS algorithm!!! **(10 points!)**"
   ]
  },
  {
   "cell_type": "markdown",
   "metadata": {
    "collapsed": true
   },
   "source": [
    "The [Retention.txt](Retention.txt) is in the same folder with this assignment.\n",
    "You can download the Tetrad software at [here](http://www.phil.cmu.edu/projects/tetrad/) also.\n",
    "The example to run the Causal algorithm at the Pittsburgh Supercomputer is at [here](Remotely+run+a+job+at+PSC.ipynb)."
   ]
  },
  {
   "cell_type": "markdown",
   "metadata": {
    "collapsed": true
   },
   "source": [
    "**Note:** the latest version (6.0.1) of Tetrad software is [here](tetrad-gui-6.0.1-SNAPSHOT-launch.jar). This one has a revised interface and along with better optimized causal algorithms."
   ]
  },
  {
   "cell_type": "code",
   "execution_count": null,
   "metadata": {
    "collapsed": true
   },
   "outputs": [],
   "source": []
  }
 ],
 "metadata": {
  "anaconda-cloud": {},
  "kernelspec": {
   "display_name": "Python [default]",
   "language": "python",
   "name": "python2"
  },
  "language_info": {
   "codemirror_mode": {
    "name": "ipython",
    "version": 2
   },
   "file_extension": ".py",
   "mimetype": "text/x-python",
   "name": "python",
   "nbconvert_exporter": "python",
   "pygments_lexer": "ipython2",
   "version": "2.7.12"
  }
 },
 "nbformat": 4,
 "nbformat_minor": 1
}
